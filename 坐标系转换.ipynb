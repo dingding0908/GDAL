{
 "cells": [
  {
   "cell_type": "code",
   "execution_count": 6,
   "metadata": {
    "collapsed": true
   },
   "outputs": [],
   "source": [
    "from osgeo import gdal\n",
    "from osgeo import osr\n",
    "import numpy as np"
   ]
  },
  {
   "cell_type": "code",
   "execution_count": 7,
   "outputs": [],
   "source": [
    "# 获得给定数据的投影参考系和地理参考系\n",
    "def getSRSPair(dataset):\n",
    "    '''\n",
    "    获得给定数据的投影参考系和地理参考系\n",
    "    :param dataset: GDAL地理数据\n",
    "    :return: 投影参考系和地理参考系\n",
    "    '''\n",
    "    prosrs = osr.SpatialReference()\n",
    "    prosrs.ImportFromWkt(dataset.GetProjection())\n",
    "    geosrs = prosrs.CloneGeogCS()\n",
    "    return prosrs, geosrs\n",
    "\n",
    "# 将投影坐标转为经纬度坐标（具体的投影坐标系由给定数据确定）\n",
    "def geo2lonlat(dataset, x, y):\n",
    "    '''\n",
    "    将投影坐标转为经纬度坐标（具体的投影坐标系由给定数据确定）\n",
    "    :param dataset: GDAL地理数据\n",
    "    :param x: 投影坐标x\n",
    "    :param y: 投影坐标y\n",
    "    :return: 投影坐标(x, y)对应的经纬度坐标(lon, lat)\n",
    "    '''\n",
    "    prosrs, geosrs = getSRSPair(dataset)\n",
    "    ct = osr.CoordinateTransformation(prosrs, geosrs)\n",
    "    coords = ct.TransformPoint(x, y)\n",
    "    return coords[:2]\n",
    "\n",
    "# 将经纬度坐标转为投影坐标（具体的投影坐标系由给定数据确定）\n",
    "def lonlat2geo(dataset, lon, lat):\n",
    "    '''\n",
    "    将经纬度坐标转为投影坐标（具体的投影坐标系由给定数据确定）\n",
    "    :param dataset: GDAL地理数据\n",
    "    :param lon: 地理坐标lon经度\n",
    "    :param lat: 地理坐标lat纬度\n",
    "    :return: 经纬度坐标(lon, lat)对应的投影坐标\n",
    "    '''\n",
    "    prosrs, geosrs = getSRSPair(dataset)\n",
    "    ct = osr.CoordinateTransformation(geosrs, prosrs)\n",
    "    coords = ct.TransformPoint(lon, lat)\n",
    "    return coords[:2]\n",
    "\n",
    "# 根据GDAL的六参数模型将影像图上坐标（行列号）转为投影坐标或地理坐标（根据具体数据的坐标系统转换）\n",
    "def imagexy2geo(dataset, row, col):\n",
    "    '''\n",
    "    根据GDAL的六参数模型将影像图上坐标（行列号）转为投影坐标或地理坐标（根据具体数据的坐标系统转换）\n",
    "    :param dataset: GDAL地理数据\n",
    "    :param row: 像素的行号\n",
    "    :param col: 像素的列号\n",
    "    :return: 行列号(row, col)对应的投影坐标或地理坐标(x, y)\n",
    "    '''\n",
    "    trans = dataset.GetGeoTransform()\n",
    "    px = trans[0] + col * trans[1] + row * trans[2]\n",
    "    py = trans[3] + col * trans[4] + row * trans[5]\n",
    "    return px, py\n",
    "\n",
    "\n",
    "# 根据GDAL的六 参数模型将给定的投影或地理坐标转为影像图上坐标（行列号）\n",
    "def geo2imagexy(dataset, x, y):\n",
    "    '''\n",
    "    根据GDAL的六 参数模型将给定的投影或地理坐标转为影像图上坐标（行列号）\n",
    "    :param dataset: GDAL地理数据\n",
    "    :param x: 投影或地理坐标x\n",
    "    :param y: 投影或地理坐标y\n",
    "    :return: 影坐标或地理坐标(x, y)对应的影像图上行列号(row, col)\n",
    "    '''\n",
    "    trans = dataset.GetGeoTransform()\n",
    "    a = np.array([[trans[1], trans[2]], [trans[4], trans[5]]])\n",
    "    b = np.array([x - trans[0], y - trans[3]])\n",
    "    return np.linalg.solve(a, b)  # 使用numpy的linalg.solve进行二元一次方程的求解\n"
   ],
   "metadata": {
    "collapsed": false,
    "pycharm": {
     "name": "#%%\n"
    }
   }
  },
  {
   "cell_type": "code",
   "execution_count": 11,
   "outputs": [
    {
     "name": "stdout",
     "output_type": "stream",
     "text": [
      "数据投影：\n",
      "PROJCS[\"WGS 84 / UTM zone 53N\",GEOGCS[\"WGS 84\",DATUM[\"WGS_1984\",SPHEROID[\"WGS 84\",6378137,298.257223563,AUTHORITY[\"EPSG\",\"7030\"]],AUTHORITY[\"EPSG\",\"6326\"]],PRIMEM[\"Greenwich\",0,AUTHORITY[\"EPSG\",\"8901\"]],UNIT[\"degree\",0.0174532925199433,AUTHORITY[\"EPSG\",\"9122\"]],AUTHORITY[\"EPSG\",\"4326\"]],PROJECTION[\"Transverse_Mercator\"],PARAMETER[\"latitude_of_origin\",0],PARAMETER[\"central_meridian\",135],PARAMETER[\"scale_factor\",0.9996],PARAMETER[\"false_easting\",500000],PARAMETER[\"false_northing\",0],UNIT[\"metre\",1,AUTHORITY[\"EPSG\",\"9001\"]],AXIS[\"Easting\",EAST],AXIS[\"Northing\",NORTH],AUTHORITY[\"EPSG\",\"32653\"]]\n",
      "数据的大小（行，列）：\n",
      "(2791 3156)\n"
     ]
    }
   ],
   "source": [
    "if __name__ == '__main__':\n",
    "    gdal.AllRegister()\n",
    "    dataset = gdal.Open(r\"E:\\Desktop\\LAI回归模型训练\\06GEE_CLIP\\GEE_clip_0713.tif\")\n",
    "    print('数据投影：')\n",
    "    print(dataset.GetProjection())\n",
    "    print('数据的大小（行，列）：')\n",
    "    print('(%s %s)' % (dataset.RasterYSize, dataset.RasterXSize))\n",
    "\n",
    "\n"
   ],
   "metadata": {
    "collapsed": false,
    "pycharm": {
     "name": "#%%\n"
    }
   }
  },
  {
   "cell_type": "code",
   "execution_count": 12,
   "outputs": [
    {
     "name": "stdout",
     "output_type": "stream",
     "text": [
      "投影坐标 -> 经纬度：\n",
      "(464201, 5818760)->(52.517775399388476, 134.47242255483457)\n",
      "经纬度 -> 投影坐标：\n",
      "(122.47242, 52.51778)->(inf, inf)\n",
      "图上坐标 -> 投影坐标：\n",
      "(2399, 3751)->(380111.62630853354, 5231268.363241494)\n",
      "投影坐标 -> 图上坐标：\n",
      "(464201, 5818760)->(12159.937369146646, -56350.16367585063)\n"
     ]
    }
   ],
   "source": [
    "    x = 464201\n",
    "    y = 5818760\n",
    "    lon = 122.47242\n",
    "    lat = 52.51778\n",
    "    row = 2399\n",
    "    col = 3751\n",
    "\n",
    "    print('投影坐标 -> 经纬度：')\n",
    "    coords = geo2lonlat(dataset, x, y)\n",
    "    print('(%s, %s)->(%s, %s)' % (x, y, coords[0], coords[1]))\n",
    "    print('经纬度 -> 投影坐标：')\n",
    "    coords = lonlat2geo(dataset, lon, lat)\n",
    "    print('(%s, %s)->(%s, %s)' % (lon, lat, coords[0], coords[1]))\n",
    "\n",
    "    print('图上坐标 -> 投影坐标：')\n",
    "    coords = imagexy2geo(dataset, row, col)\n",
    "    print('(%s, %s)->(%s, %s)' % (row, col, coords[0], coords[1]))\n",
    "    print('投影坐标 -> 图上坐标：')\n",
    "    coords = geo2imagexy(dataset, x, y)\n",
    "    print('(%s, %s)->(%s, %s)' % (x, y, coords[0], coords[1]))"
   ],
   "metadata": {
    "collapsed": false,
    "pycharm": {
     "name": "#%%\n"
    }
   }
  },
  {
   "cell_type": "code",
   "execution_count": null,
   "outputs": [],
   "source": [],
   "metadata": {
    "collapsed": false,
    "pycharm": {
     "name": "#%%\n"
    }
   }
  }
 ],
 "metadata": {
  "kernelspec": {
   "display_name": "Python 3",
   "language": "python",
   "name": "python3"
  },
  "language_info": {
   "codemirror_mode": {
    "name": "ipython",
    "version": 2
   },
   "file_extension": ".py",
   "mimetype": "text/x-python",
   "name": "python",
   "nbconvert_exporter": "python",
   "pygments_lexer": "ipython2",
   "version": "2.7.6"
  }
 },
 "nbformat": 4,
 "nbformat_minor": 0
}