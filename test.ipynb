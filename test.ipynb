{
 "cells": [
  {
   "cell_type": "code",
   "execution_count": 73,
   "outputs": [],
   "source": [
    "import gdal\n",
    "import osr\n",
    "import os\n",
    "\n",
    "\n",
    "os.environ['PROJ_LIB'] = 'proj/'"
   ],
   "metadata": {
    "collapsed": false,
    "pycharm": {
     "name": "#%%\n"
    }
   }
  },
  {
   "cell_type": "code",
   "execution_count": 74,
   "outputs": [],
   "source": [
    "# 地理坐标路径\n",
    "file_name = '2022-07-13_3_S2DL.tif'\n",
    "raster_path = r'E:\\Desktop\\LAI回归模型训练\\01GEE0713\\{}'.format(file_name)\n",
    "# 保存投影栅格数据路径\n",
    "UTM_raster_path = r'E:\\Desktop\\LAI回归模型训练\\02GEE0713Projection\\1{}'.format(file_name)\n",
    "longitude = 135\n",
    "is_north = True"
   ],
   "metadata": {
    "collapsed": false,
    "pycharm": {
     "name": "#%%\n"
    }
   }
  },
  {
   "cell_type": "code",
   "execution_count": 75,
   "metadata": {
    "collapsed": true
   },
   "outputs": [],
   "source": [
    "raster_ds = gdal.Open(raster_path)\n",
    "raster_type = raster_ds.GetRasterBand(1).DataType"
   ]
  },
  {
   "cell_type": "code",
   "execution_count": 76,
   "outputs": [
    {
     "data": {
      "text/plain": "4659"
     },
     "execution_count": 76,
     "metadata": {},
     "output_type": "execute_result"
    }
   ],
   "source": [
    "raster_ds.GetProjection()\n",
    "raster_ds.RasterXSize"
   ],
   "metadata": {
    "collapsed": false,
    "pycharm": {
     "name": "#%%\n"
    }
   }
  },
  {
   "cell_type": "code",
   "execution_count": 77,
   "outputs": [],
   "source": [
    "# 栅格地理坐标\n",
    "spatialRef = osr.SpatialReference()"
   ],
   "metadata": {
    "collapsed": false,
    "pycharm": {
     "name": "#%%\n"
    }
   }
  },
  {
   "cell_type": "code",
   "execution_count": 78,
   "outputs": [
    {
     "data": {
      "text/plain": "<osgeo.osr.SpatialReference; proxy of <Swig Object of type 'OSRSpatialReferenceShadow *' at 0x0000029B9F3A3D80> >"
     },
     "execution_count": 78,
     "metadata": {},
     "output_type": "execute_result"
    }
   ],
   "source": [
    "spatialRef.ImportFromWkt(raster_ds.GetProjection())\n",
    "spatialRef"
   ],
   "metadata": {
    "collapsed": false,
    "pycharm": {
     "name": "#%%\n"
    }
   }
  },
  {
   "cell_type": "code",
   "execution_count": 79,
   "outputs": [
    {
     "data": {
      "text/plain": "<osgeo.osr.CoordinateTransformation; proxy of <Swig Object of type 'OSRCoordinateTransformationShadow *' at 0x0000029B9E2DA5A0> >"
     },
     "execution_count": 79,
     "metadata": {},
     "output_type": "execute_result"
    }
   ],
   "source": [
    "# 根据经度计算UTM区号,进而定义UTM投影\n",
    "zone = str(int(longitude / 6) + 31)\n",
    "zone = int('326' + zone) if is_north else int('327' + zone)\n",
    "UTM_spatialRef = osr.SpatialReference()\n",
    "UTM_spatialRef.ImportFromEPSG(zone)\n",
    "\n",
    "# 投影转换\n",
    "coordinate_transfor = osr.CoordinateTransformation(spatialRef, UTM_spatialRef)\n",
    "coordinate_transfor"
   ],
   "metadata": {
    "collapsed": false,
    "pycharm": {
     "name": "#%%\n"
    }
   }
  },
  {
   "cell_type": "code",
   "execution_count": 80,
   "outputs": [
    {
     "data": {
      "text/plain": "(132.91275314469934,\n 8.983152841195215e-05,\n 0.0,\n 47.43176565373803,\n 0.0,\n -8.983152841195215e-05)"
     },
     "execution_count": 80,
     "metadata": {},
     "output_type": "execute_result"
    }
   ],
   "source": [
    "# 仿射矩阵六参数\n",
    "geotransform = raster_ds.GetGeoTransform()\n",
    "# 左上角upper left、右下角lower right坐标\n",
    "\n",
    "geotransform"
   ],
   "metadata": {
    "collapsed": false,
    "pycharm": {
     "name": "#%%\n"
    }
   }
  },
  {
   "cell_type": "code",
   "execution_count": 81,
   "outputs": [],
   "source": [
    "ul_x = geotransform[0]\n",
    "ul_y = geotransform[3]\n",
    "lr_x = geotransform[0] + geotransform[1] * raster_ds.RasterXSize + geotransform[2] * raster_ds.RasterYSize\n",
    "lr_y = geotransform[3] + geotransform[4] * raster_ds.RasterYSize + geotransform[5] * raster_ds.RasterYSize"
   ],
   "metadata": {
    "collapsed": false,
    "pycharm": {
     "name": "#%%\n"
    }
   }
  },
  {
   "cell_type": "code",
   "execution_count": 82,
   "outputs": [
    {
     "data": {
      "text/plain": "(342601.62630853354, 5255258.363241494, 0.0)"
     },
     "execution_count": 82,
     "metadata": {},
     "output_type": "execute_result"
    }
   ],
   "source": [
    "# 左上角、右下角在目标投影中的坐标\n",
    "(UTM_ul_x, UTM_ul_y, UTM_ul_z) = coordinate_transfor.TransformPoint(ul_y, ul_x)\n",
    "(UTM_ul_x, UTM_ul_y, UTM_ul_z)"
   ],
   "metadata": {
    "collapsed": false,
    "pycharm": {
     "name": "#%%\n"
    }
   }
  },
  {
   "cell_type": "code",
   "execution_count": 83,
   "outputs": [
    {
     "data": {
      "text/plain": "(373564.98364082444, 5226634.10626176, 0.0)"
     },
     "execution_count": 83,
     "metadata": {},
     "output_type": "execute_result"
    }
   ],
   "source": [
    "(UTM_lr_x, UTM_lr_y, UTM_lr_z) = coordinate_transfor.TransformPoint(lr_y, lr_x)\n",
    "\n",
    "(UTM_lr_x, UTM_lr_y, UTM_lr_z)"
   ],
   "metadata": {
    "collapsed": false,
    "pycharm": {
     "name": "#%%\n"
    }
   }
  },
  {
   "cell_type": "code",
   "execution_count": 84,
   "outputs": [],
   "source": [
    "# 创建目标图像文件\n",
    "driver = gdal.GetDriverByName(\"GTiff\")\n",
    "UTM_raster_ds = driver.Create(UTM_raster_path,\n",
    "                              raster_ds.RasterXSize,\n",
    "                              raster_ds.RasterYSize,\n",
    "                              raster_ds.RasterCount,\n",
    "                              raster_type)\n",
    "# 转换后图像的分辨率\n",
    "# resolution = (UTM_lr_x - UTM_ul_x) / raster_ds.RasterXSize\n",
    "resolution = 10"
   ],
   "metadata": {
    "collapsed": false,
    "pycharm": {
     "name": "#%%\n"
    }
   }
  },
  {
   "cell_type": "code",
   "execution_count": 85,
   "outputs": [
    {
     "data": {
      "text/plain": "[342601.62630853354, 10, 0, 5255258.363241494, 0, -10]"
     },
     "execution_count": 85,
     "metadata": {},
     "output_type": "execute_result"
    }
   ],
   "source": [
    "# 转换后图像的六个放射变换参数\n",
    "UTM_transform = [UTM_ul_x, resolution, 0, UTM_ul_y, 0, -resolution]\n",
    "UTM_transform"
   ],
   "metadata": {
    "collapsed": false,
    "pycharm": {
     "name": "#%%\n"
    }
   }
  },
  {
   "cell_type": "code",
   "execution_count": 86,
   "outputs": [
    {
     "data": {
      "text/plain": "0"
     },
     "execution_count": 86,
     "metadata": {},
     "output_type": "execute_result"
    }
   ],
   "source": [
    "UTM_raster_ds.SetGeoTransform(UTM_transform)\n",
    "UTM_raster_ds.SetProjection(UTM_spatialRef.ExportToWkt())\n",
    "# 投影转换后需要做重采样\n",
    "gdal.ReprojectImage(raster_ds, UTM_raster_ds, spatialRef.ExportToWkt(),\n",
    "                    UTM_spatialRef.ExportToWkt(), gdal.GRA_Bilinear)"
   ],
   "metadata": {
    "collapsed": false,
    "pycharm": {
     "name": "#%%\n"
    }
   }
  },
  {
   "cell_type": "code",
   "execution_count": 87,
   "outputs": [],
   "source": [
    "# 关闭\n",
    "raster_ds = None\n",
    "UTM_raster_ds = None"
   ],
   "metadata": {
    "collapsed": false,
    "pycharm": {
     "name": "#%%\n"
    }
   }
  },
  {
   "cell_type": "code",
   "execution_count": null,
   "outputs": [],
   "source": [],
   "metadata": {
    "collapsed": false,
    "pycharm": {
     "name": "#%%\n"
    }
   }
  }
 ],
 "metadata": {
  "kernelspec": {
   "display_name": "Python 3",
   "language": "python",
   "name": "python3"
  },
  "language_info": {
   "codemirror_mode": {
    "name": "ipython",
    "version": 2
   },
   "file_extension": ".py",
   "mimetype": "text/x-python",
   "name": "python",
   "nbconvert_exporter": "python",
   "pygments_lexer": "ipython2",
   "version": "2.7.6"
  }
 },
 "nbformat": 4,
 "nbformat_minor": 0
}